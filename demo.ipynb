{
 "cells": [
  {
   "cell_type": "code",
   "execution_count": 1,
   "metadata": {},
   "outputs": [],
   "source": [
    "#!pip install pandas\n",
    "import sqlite3\n",
    "import pandas as pd"
   ]
  },
  {
   "cell_type": "code",
   "execution_count": 2,
   "metadata": {},
   "outputs": [],
   "source": [
    "# create a connection to a database\n",
    "db = sqlite3.connect(\"games.db\")"
   ]
  },
  {
   "cell_type": "code",
   "execution_count": 3,
   "metadata": {},
   "outputs": [],
   "source": [
    "# create a cursor\n",
    "cursor = db.cursor()"
   ]
  },
  {
   "cell_type": "code",
   "execution_count": 4,
   "metadata": {},
   "outputs": [
    {
     "data": {
      "text/plain": [
       "<sqlite3.Cursor at 0x7f0395161840>"
      ]
     },
     "execution_count": 4,
     "metadata": {},
     "output_type": "execute_result"
    }
   ],
   "source": [
    "# select whole table from database \"games\"\n",
    "cursor.execute(\"select * from games\")"
   ]
  },
  {
   "cell_type": "code",
   "execution_count": 5,
   "metadata": {},
   "outputs": [
    {
     "data": {
      "text/plain": [
       "('1/8/22',\n",
       " 'Sat',\n",
       " '',\n",
       " '',\n",
       " '',\n",
       " 'Normal',\n",
       " '',\n",
       " '2:20 PM',\n",
       " '成乙',\n",
       " 'Adult',\n",
       " 'Cup',\n",
       " 'Group',\n",
       " '锦江仁德 A4',\n",
       " '车百业 v 方头鱼',\n",
       " '4th O',\n",
       " '杨坤、王其炽、李聪聪',\n",
       " 'White v Blue',\n",
       " '2:1',\n",
       " \"53', 80'\",\n",
       " \"36'\",\n",
       " 'Away',\n",
       " 'Right',\n",
       " '40 mins/half & 15 mins break',\n",
       " '5',\n",
       " '11',\n",
       " 'Cloudy',\n",
       " '10',\n",
       " \"YC, HT; 26, 44' Reckless; YC, AT; 17, 49' Reckless; YC, HT; 19, 51' Reckless; YC, HT; 31, 55' Reckless; YC, HT; 21, 60' Dissent; RC, HT; 21, 60' Verbal Abuse; YC, HT; 32, 70' Reckless; YC, AT; 11, 74' Reckless\",\n",
       " '7',\n",
       " '0',\n",
       " '1')"
      ]
     },
     "execution_count": 5,
     "metadata": {},
     "output_type": "execute_result"
    }
   ],
   "source": [
    "# this will show the first row in the data\n",
    "cursor.fetchone()"
   ]
  },
  {
   "cell_type": "code",
   "execution_count": 6,
   "metadata": {},
   "outputs": [
    {
     "data": {
      "text/plain": [
       "<sqlite3.Cursor at 0x7f0395161840>"
      ]
     },
     "execution_count": 6,
     "metadata": {},
     "output_type": "execute_result"
    }
   ],
   "source": [
    "# show the columns in the database\n",
    "cursor.execute(\"select * from pragma_table_info('games') as tblInfo;\")"
   ]
  },
  {
   "cell_type": "code",
   "execution_count": 7,
   "metadata": {},
   "outputs": [
    {
     "data": {
      "text/plain": [
       "[(0, 'Game_Date', '', 0, None, 0),\n",
       " (1, 'Game_Day', '', 0, None, 0),\n",
       " (2, 'Distance', '', 0, None, 0),\n",
       " (3, 'Game_Number', '', 0, None, 0),\n",
       " (4, 'Game_Number1', '', 0, None, 0),\n",
       " (5, 'FULL_GAME', '', 0, None, 0),\n",
       " (6, 'Distance_From_Home', '', 0, None, 0),\n",
       " (7, 'Time', '', 0, None, 0),\n",
       " (8, 'Game_Type', '', 0, None, 0),\n",
       " (9, 'Level', '', 0, None, 0),\n",
       " (10, 'Competition_System', '', 0, None, 0),\n",
       " (11, 'Stage', '', 0, None, 0),\n",
       " (12, 'Site', '', 0, None, 0),\n",
       " (13, 'Team_Home_vs_Away', '', 0, None, 0),\n",
       " (14, 'Poisition', '', 0, None, 0),\n",
       " (15, 'Other_Officials', '', 0, None, 0),\n",
       " (16, 'Color_Home_vs_Away', '', 0, None, 0),\n",
       " (17, 'Score', '', 0, None, 0),\n",
       " (18, 'Score_Time_Home', '', 0, None, 0),\n",
       " (19, 'Score_Time_Away', '', 0, None, 0),\n",
       " (20, 'Kick_off', '', 0, None, 0),\n",
       " (21, 'Attack_Direction', '', 0, None, 0),\n",
       " (22, 'Duration', '', 0, None, 0),\n",
       " (23, 'Ball_Size', '', 0, None, 0),\n",
       " (24, 'Number_of_Players', '', 0, None, 0),\n",
       " (25, 'Weather', '', 0, None, 0),\n",
       " (26, 'Temperature_Celsius', '', 0, None, 0),\n",
       " (27, 'Report', '', 0, None, 0),\n",
       " (28, 'YC_Count', '', 0, None, 0),\n",
       " (29, 'YCs_Count', '', 0, None, 0),\n",
       " (30, 'RC_Count', '', 0, None, 0)]"
      ]
     },
     "execution_count": 7,
     "metadata": {},
     "output_type": "execute_result"
    }
   ],
   "source": [
    "# show the columns in the database\n",
    "cursor.fetchall()"
   ]
  },
  {
   "cell_type": "code",
   "execution_count": 8,
   "metadata": {},
   "outputs": [
    {
     "name": "stdout",
     "output_type": "stream",
     "text": [
      "I have officiated 129 11 vs 11 games from January 2021 to July 2022.\n"
     ]
    }
   ],
   "source": [
    "# select the game played as 11 vs 11\n",
    "cursor.execute(\"select * from games where Number_of_Players == '11';\")\n",
    "game11v11 = cursor.fetchall()\n",
    "print(\n",
    "    f\"I have officiated {len(game11v11)} 11 vs 11 games from January 2021 to July 2022.\"\n",
    ")"
   ]
  },
  {
   "cell_type": "code",
   "execution_count": 9,
   "metadata": {},
   "outputs": [
    {
     "name": "stdout",
     "output_type": "stream",
     "text": [
      "I have officiated 80 8 vs 8 games from January 2021 to July 2022.\n"
     ]
    }
   ],
   "source": [
    "# select the game played as 8 vs 8\n",
    "cursor.execute(\"select * from games where Number_of_Players == '8';\")\n",
    "game8v8 = cursor.fetchall()\n",
    "print(f\"I have officiated {len(game8v8)} 8 vs 8 games from January 2021 to July 2022.\")"
   ]
  },
  {
   "cell_type": "code",
   "execution_count": 10,
   "metadata": {},
   "outputs": [
    {
     "name": "stdout",
     "output_type": "stream",
     "text": [
      "I have officiated 108 games as referee from January 2021 to July 2022.\n"
     ]
    }
   ],
   "source": [
    "# select the game officiated as referee\n",
    "cursor.execute(\"select * from games where Poisition == 'RR';\")\n",
    "RR = cursor.fetchall()\n",
    "print(f\"I have officiated {len(RR)} games as referee from January 2021 to July 2022.\")"
   ]
  },
  {
   "cell_type": "code",
   "execution_count": 11,
   "metadata": {},
   "outputs": [
    {
     "name": "stdout",
     "output_type": "stream",
     "text": [
      "I have officiated 37 games as assistant referee from January 2021 to July 2022.\n"
     ]
    }
   ],
   "source": [
    "# select the game officiated as assistant referee\n",
    "cursor.execute(\"select * from games where Poisition like 'AR%';\")\n",
    "AR = cursor.fetchall()\n",
    "print(\n",
    "    f\"I have officiated {len(AR)} games as assistant referee from January 2021 to July 2022.\"\n",
    ")"
   ]
  },
  {
   "cell_type": "code",
   "execution_count": 12,
   "metadata": {},
   "outputs": [
    {
     "name": "stdout",
     "output_type": "stream",
     "text": [
      "I have officiated 82 games as 4th official from January 2021 to July 2022.\n"
     ]
    }
   ],
   "source": [
    "# select the game officiated as 4th official\n",
    "cursor.execute(\"select * from games where Poisition == '4th O';\")\n",
    "fourthO = cursor.fetchall()\n",
    "print(\n",
    "    f\"I have officiated {len(fourthO)} games as 4th official from January 2021 to July 2022.\"\n",
    ")"
   ]
  },
  {
   "cell_type": "code",
   "execution_count": 13,
   "metadata": {},
   "outputs": [
    {
     "name": "stdout",
     "output_type": "stream",
     "text": [
      "I have given 182 Yellow Cards as a referee from January 2021 to July 2022.\n"
     ]
    }
   ],
   "source": [
    "# How many Yellow Cards have I given as a referee?\n",
    "cursor.execute(\"select sum(YC_Count) from games where Poisition == 'RR';\")\n",
    "YC = cursor.fetchall()\n",
    "print(\n",
    "    f\"I have given {YC[0][0]:.0f} Yellow Cards as a referee from January 2021 to July 2022.\"\n",
    ")"
   ]
  },
  {
   "cell_type": "code",
   "execution_count": 14,
   "metadata": {},
   "outputs": [
    {
     "name": "stdout",
     "output_type": "stream",
     "text": [
      "I have given 8 Red Cards as a referee from January 2021 to July 2022.\n"
     ]
    }
   ],
   "source": [
    "# How many Red Cards have I given as a referee?\n",
    "cursor.execute(\"select sum(RC_Count) from games where Poisition == 'RR';\")\n",
    "RC = cursor.fetchall()\n",
    "print(\n",
    "    f\"I have given {RC[0][0]:.0f} Red Cards as a referee from January 2021 to July 2022.\"\n",
    ")"
   ]
  },
  {
   "cell_type": "code",
   "execution_count": 15,
   "metadata": {},
   "outputs": [
    {
     "name": "stdout",
     "output_type": "stream",
     "text": [
      "I have given 1.69 Yellow Cards per game as a referee from January 2021 to July 2022.\n"
     ]
    }
   ],
   "source": [
    "# How many Yellow Cards per game as a referee?\n",
    "cursor.execute(\"select avg(YC_Count) from games where Poisition == 'RR';\")\n",
    "YC_per_game = cursor.fetchall()\n",
    "print(\n",
    "    f\"I have given {YC_per_game[0][0]:.2f} Yellow Cards per game as a referee from January 2021 to July 2022.\"\n",
    ")"
   ]
  },
  {
   "cell_type": "code",
   "execution_count": 16,
   "metadata": {},
   "outputs": [
    {
     "name": "stdout",
     "output_type": "stream",
     "text": [
      "I have given 0.07 Red Cards per game as a referee from January 2021 to July 2022.\n"
     ]
    }
   ],
   "source": [
    "# How many Red Cards per game as a referee?\n",
    "cursor.execute(\"select avg(RC_Count) from games where Poisition == 'RR';\")\n",
    "RC_per_game = cursor.fetchall()\n",
    "print(\n",
    "    f\"I have given {RC_per_game[0][0]:.2f} Red Cards per game as a referee from January 2021 to July 2022.\"\n",
    ")"
   ]
  },
  {
   "cell_type": "code",
   "execution_count": 17,
   "metadata": {},
   "outputs": [
    {
     "name": "stdout",
     "output_type": "stream",
     "text": [
      "The most cards shown in a game as a referee was 11, (YC: 9, 2nd YC: 2, and RC: 2), 成都龙耀 v 德驰娱乐 (Score:1:2, 成甲总Semi-Final) on 1/16/22 at 锦江仁德 A4.\n",
      "My running distance was 8.13 kilometers. Other officials were: 秦立港、李阳、李飞.\n"
     ]
    }
   ],
   "source": [
    "# The most cards shown in a game as a referee\n",
    "cursor.execute(\n",
    "    \"select Game_Date, YC_Count, YCs_Count, RC_Count, max(YC_Count + RC_Count) as Cards_Max, Team_Home_vs_Away, Game_Type, Stage, Site, Score, Distance, Other_Officials from games where Poisition == 'RR';\"\n",
    ")\n",
    "Cards_Max = cursor.fetchall()\n",
    "print(\n",
    "    f\"The most cards shown in a game as a referee was {Cards_Max[0][4]:.0f}, (YC: {Cards_Max[0][1]}, 2nd YC: {Cards_Max[0][2]}, and RC: {Cards_Max[0][3]}), {Cards_Max[0][5]} (Score:{Cards_Max[0][9]}, {Cards_Max[0][6]}{Cards_Max[0][7]}) on {Cards_Max[0][0]} at {Cards_Max[0][8]}.\"\n",
    ")\n",
    "print(\n",
    "    f\"My running distance was {Cards_Max[0][10]} kilometers. Other officials were: {Cards_Max[0][11]}.\"\n",
    ")"
   ]
  },
  {
   "cell_type": "code",
   "execution_count": 18,
   "metadata": {},
   "outputs": [
    {
     "name": "stdout",
     "output_type": "stream",
     "text": [
      "The most distance covered in a game as a referee was 9.90 kilometers, 成都之己 v 成都大学 (Score:2:2, 成超 22 Season YC: 2, 2nd YC: 0, and RC: 0) on 7/3/22 at 城东体育公园.\n"
     ]
    }
   ],
   "source": [
    "# The most distanced covered in a game as a referee\n",
    "cursor.execute(\n",
    "    \"select Game_Date, YC_Count, YCs_Count, RC_Count, max(Distance) as Distance_Max, Team_Home_vs_Away, Game_Type, Stage, Site, Score, Other_Officials from games where Poisition == 'RR';\"\n",
    ")\n",
    "Distance_Max = cursor.fetchall()\n",
    "print(\n",
    "    f\"The most distance covered in a game as a referee was {Distance_Max[0][4]} kilometers, {Distance_Max[0][5]} (Score:{Distance_Max[0][9]}, {Distance_Max[0][6]} 22 {Distance_Max[0][7]} YC: {Distance_Max[0][1]}, 2nd YC: {Distance_Max[0][2]}, and RC: {Distance_Max[0][3]}) on {Distance_Max[0][0]} at {Distance_Max[0][8]}.\"\n",
    ")"
   ]
  }
 ],
 "metadata": {
  "kernelspec": {
   "display_name": "Python 3.11.0 64-bit",
   "language": "python",
   "name": "python3"
  },
  "language_info": {
   "codemirror_mode": {
    "name": "ipython",
    "version": 3
   },
   "file_extension": ".py",
   "mimetype": "text/x-python",
   "name": "python",
   "nbconvert_exporter": "python",
   "pygments_lexer": "ipython3",
   "version": "3.11.0"
  },
  "orig_nbformat": 4,
  "vscode": {
   "interpreter": {
    "hash": "949777d72b0d2535278d3dc13498b2535136f6dfe0678499012e853ee9abcab1"
   }
  }
 },
 "nbformat": 4,
 "nbformat_minor": 2
}
